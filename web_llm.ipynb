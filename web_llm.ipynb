{
  "nbformat": 4,
  "nbformat_minor": 0,
  "metadata": {
    "colab": {
      "provenance": [],
      "authorship_tag": "ABX9TyOBD6B5yobTVMPvYbzwqyqm",
      "include_colab_link": true
    },
    "kernelspec": {
      "name": "python3",
      "display_name": "Python 3"
    },
    "language_info": {
      "name": "python"
    }
  },
  "cells": [
    {
      "cell_type": "markdown",
      "metadata": {
        "id": "view-in-github",
        "colab_type": "text"
      },
      "source": [
        "<a href=\"https://colab.research.google.com/github/theaidran/web-llm-test/blob/main/web_llm.ipynb\" target=\"_parent\"><img src=\"https://colab.research.google.com/assets/colab-badge.svg\" alt=\"Open In Colab\"/></a>"
      ]
    },
    {
      "cell_type": "code",
      "source": [
        "!git clone https://github.com/mlc-ai/web-llm/"
      ],
      "metadata": {
        "colab": {
          "base_uri": "https://localhost:8080/"
        },
        "id": "NfWNavJZisO0",
        "outputId": "d3b22a4d-a113-415f-e20d-4879c6df9491"
      },
      "execution_count": null,
      "outputs": [
        {
          "output_type": "stream",
          "name": "stdout",
          "text": [
            "Cloning into 'web-llm'...\n",
            "remote: Enumerating objects: 3847, done.\u001b[K\n",
            "remote: Counting objects: 100% (1550/1550), done.\u001b[K\n",
            "remote: Compressing objects: 100% (781/781), done.\u001b[K\n",
            "remote: Total 3847 (delta 1029), reused 1070 (delta 745), pack-reused 2297\u001b[K\n",
            "Receiving objects: 100% (3847/3847), 52.04 MiB | 18.06 MiB/s, done.\n",
            "Resolving deltas: 100% (2223/2223), done.\n"
          ]
        }
      ]
    },
    {
      "cell_type": "code",
      "source": [
        "%cd web-llm/examples/simple-chat-ts"
      ],
      "metadata": {
        "colab": {
          "base_uri": "https://localhost:8080/"
        },
        "id": "eQBs9lJEjcOO",
        "outputId": "760a6067-7d27-4a80-8853-d5318cb908e2"
      },
      "execution_count": null,
      "outputs": [
        {
          "output_type": "stream",
          "name": "stdout",
          "text": [
            "[Errno 2] No such file or directory: 'web-llm/examples/simple-chat-ts'\n",
            "/content/web-llm/examples/simple-chat-js\n"
          ]
        }
      ]
    },
    {
      "cell_type": "code",
      "source": [
        "!npm install\n"
      ],
      "metadata": {
        "id": "0lAMd7aDigCh"
      },
      "execution_count": null,
      "outputs": []
    },
    {
      "cell_type": "code",
      "source": [
        "iport = 8883 # interface port\n",
        "from google.colab.output import eval_js\n",
        "print(\"External link:\",end=\" \")\n",
        "print(eval_js(f\"google.colab.kernel.proxyPort({iport})\"))\n",
        "from google.colab import output\n",
        "output.serve_kernel_port_as_iframe(iport)\n",
        "\n",
        "!npm start"
      ],
      "metadata": {
        "colab": {
          "base_uri": "https://localhost:8080/",
          "height": 578
        },
        "id": "sovOMXCTkYBX",
        "outputId": "f390c422-11d9-42ac-e218-1f313b24c334"
      },
      "execution_count": null,
      "outputs": [
        {
          "output_type": "stream",
          "name": "stdout",
          "text": [
            "External link: https://prmk07b9l8-496ff2e9c6d22116-8883-colab.googleusercontent.com/\n"
          ]
        },
        {
          "output_type": "display_data",
          "data": {
            "text/plain": [
              "<IPython.core.display.Javascript object>"
            ],
            "application/javascript": [
              "(async (port, path, width, height, cache, element) => {\n",
              "    if (!google.colab.kernel.accessAllowed && !cache) {\n",
              "      return;\n",
              "    }\n",
              "    element.appendChild(document.createTextNode(''));\n",
              "    const url = await google.colab.kernel.proxyPort(port, {cache});\n",
              "    const iframe = document.createElement('iframe');\n",
              "    iframe.src = new URL(path, url).toString();\n",
              "    iframe.height = height;\n",
              "    iframe.width = width;\n",
              "    iframe.style.border = 0;\n",
              "    iframe.allow = [\n",
              "        'accelerometer',\n",
              "        'autoplay',\n",
              "        'camera',\n",
              "        'clipboard-read',\n",
              "        'clipboard-write',\n",
              "        'gyroscope',\n",
              "        'magnetometer',\n",
              "        'microphone',\n",
              "        'serial',\n",
              "        'usb',\n",
              "        'xr-spatial-tracking',\n",
              "    ].join('; ');\n",
              "    element.appendChild(iframe);\n",
              "  })(8883, \"/\", \"100%\", \"400\", false, window.element)"
            ]
          },
          "metadata": {}
        },
        {
          "output_type": "stream",
          "name": "stdout",
          "text": [
            "\n",
            "> simple-chat@0.1.0 start /content/web-llm/examples/simple-chat-ts\n",
            "> cp src/gh-config.js src/app-config.js && parcel src/llm_chat.html  --port 8883\n",
            "\n",
            "\u001b[0J\u001b[0J\u001b[34m\u001b[1mServer running at http://localhost:8883\u001b[22m\u001b[39m\n",
            "\u001b[?25l\u001b[32m⠋\u001b[39m \u001b[90m\u001b[1mBuilding app-config.js...\u001b[22m\u001b[39m\n",
            "\u001b[2K\u001b[1G\u001b[1A\u001b[2K\u001b[1G\u001b[32m⠙\u001b[39m \u001b[90m\u001b[1mBuilding app-config.js...\u001b[22m\u001b[39m\n",
            "\u001b[2K\u001b[1G\u001b[1A\u001b[2K\u001b[1G\u001b[?25h✨ \u001b[32m\u001b[1mBuilt in 140ms\u001b[22m\u001b[39m\n",
            "\u001b[?25h"
          ]
        }
      ]
    },
    {
      "cell_type": "code",
      "source": [],
      "metadata": {
        "id": "kKQo7FvYsqDI"
      },
      "execution_count": null,
      "outputs": []
    },
    {
      "cell_type": "code",
      "source": [
        "iport = 8883 # interface port\n",
        "from google.colab.output import eval_js\n",
        "print(\"External link:\",end=\" \")\n",
        "print(eval_js(f\"google.colab.kernel.proxyPort({iport})\"))\n",
        "from google.colab import output\n",
        "output.serve_kernel_port_as_iframe(iport)"
      ],
      "metadata": {
        "colab": {
          "base_uri": "https://localhost:8080/",
          "height": 439
        },
        "id": "bJJC0yWrlw3C",
        "outputId": "5015cb77-121c-405f-81a6-f515f9d7227c"
      },
      "execution_count": null,
      "outputs": [
        {
          "output_type": "stream",
          "name": "stdout",
          "text": [
            "External link: https://rxr64j0tsmr-496ff2e9c6d22116-8883-colab.googleusercontent.com/\n"
          ]
        },
        {
          "output_type": "display_data",
          "data": {
            "text/plain": [
              "<IPython.core.display.Javascript object>"
            ],
            "application/javascript": [
              "(async (port, path, width, height, cache, element) => {\n",
              "    if (!google.colab.kernel.accessAllowed && !cache) {\n",
              "      return;\n",
              "    }\n",
              "    element.appendChild(document.createTextNode(''));\n",
              "    const url = await google.colab.kernel.proxyPort(port, {cache});\n",
              "    const iframe = document.createElement('iframe');\n",
              "    iframe.src = new URL(path, url).toString();\n",
              "    iframe.height = height;\n",
              "    iframe.width = width;\n",
              "    iframe.style.border = 0;\n",
              "    iframe.allow = [\n",
              "        'accelerometer',\n",
              "        'autoplay',\n",
              "        'camera',\n",
              "        'clipboard-read',\n",
              "        'clipboard-write',\n",
              "        'gyroscope',\n",
              "        'magnetometer',\n",
              "        'microphone',\n",
              "        'serial',\n",
              "        'usb',\n",
              "        'xr-spatial-tracking',\n",
              "    ].join('; ');\n",
              "    element.appendChild(iframe);\n",
              "  })(8883, \"/\", \"100%\", \"400\", false, window.element)"
            ]
          },
          "metadata": {}
        }
      ]
    }
  ]
}